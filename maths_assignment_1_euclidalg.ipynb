{
 "cells": [
  {
   "cell_type": "code",
   "execution_count": 1,
   "id": "0135ac13",
   "metadata": {},
   "outputs": [
    {
     "name": "stdout",
     "output_type": "stream",
     "text": [
      "Enter first number : 788\n",
      "Enter second number : 125\n",
      "788  =  125  *  6  +  38\n",
      "125  =  38  *  3  +  11\n",
      "38  =  11  *  3  +  5\n",
      "11  =  5  *  2  +  1\n",
      "5  =  1  *  5  +  0\n",
      " \n",
      "GCD of  788  and  125  is  1\n"
     ]
    }
   ],
   "source": [
    "def gcd(x, y):\n",
    "    rem = x%y\n",
    "    qou = x//y\n",
    "    print(x,\" = \",y,\" * \",qou,\" + \",rem)\n",
    "    if(rem != 0):\n",
    "        gcd(y, rem)\n",
    "    else:\n",
    "        print(\" \")\n",
    "        print(\"GCD of \",num1,\" and \",num2,\" is \",y)\n",
    "    \n",
    "num1 = int(input(\"Enter first number : \"))\n",
    "num2 = int(input(\"Enter second number : \"))\n",
    "gcd(num1, num2)\n"
   ]
  },
  {
   "cell_type": "code",
   "execution_count": null,
   "id": "c1e83865",
   "metadata": {},
   "outputs": [],
   "source": []
  }
 ],
 "metadata": {
  "kernelspec": {
   "display_name": "Python 3 (ipykernel)",
   "language": "python",
   "name": "python3"
  },
  "language_info": {
   "codemirror_mode": {
    "name": "ipython",
    "version": 3
   },
   "file_extension": ".py",
   "mimetype": "text/x-python",
   "name": "python",
   "nbconvert_exporter": "python",
   "pygments_lexer": "ipython3",
   "version": "3.9.7"
  }
 },
 "nbformat": 4,
 "nbformat_minor": 5
}
