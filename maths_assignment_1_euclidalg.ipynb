{
 "cells": [
  {
   "cell_type": "code",
   "execution_count": 2,
   "id": "6210203e",
   "metadata": {},
   "outputs": [
    {
     "name": "stdout",
     "output_type": "stream",
     "text": [
      "Enter first number : 788\n",
      "Enter second number : 122\n",
      "788  =  122  *  6  +  56\n",
      "122  =  56  *  2  +  10\n",
      "56  =  10  *  5  +  6\n",
      "10  =  6  *  1  +  4\n",
      "6  =  4  *  1  +  2\n",
      "4  =  2  *  2  +  0\n",
      " \n",
      "gcd of  788  and  122  is  2\n"
     ]
    }
   ],
   "source": [
    "def gcd(x, y):\n",
    "    rem = x%y\n",
    "    qou = x//y\n",
    "    print(x,\" = \",y,\" * \",qou,\" + \",rem)\n",
    "    if(rem != 0):\n",
    "        gcd(y, rem)\n",
    "    else:\n",
    "        print(\" \")\n",
    "        print(\"gcd of \",num1,\" and \",num2,\" is \",y)\n",
    "    \n",
    "num1 = int(input(\"Enter first number : \"))\n",
    "num2 = int(input(\"Enter second number : \"))\n",
    "gcd(num1, num2)\n"
   ]
  },
  {
   "cell_type": "code",
   "execution_count": null,
   "id": "9aa6493e",
   "metadata": {},
   "outputs": [],
   "source": []
  }
 ],
 "metadata": {
  "kernelspec": {
   "display_name": "Python 3 (ipykernel)",
   "language": "python",
   "name": "python3"
  },
  "language_info": {
   "codemirror_mode": {
    "name": "ipython",
    "version": 3
   },
   "file_extension": ".py",
   "mimetype": "text/x-python",
   "name": "python",
   "nbconvert_exporter": "python",
   "pygments_lexer": "ipython3",
   "version": "3.9.7"
  }
 },
 "nbformat": 4,
 "nbformat_minor": 5
}
