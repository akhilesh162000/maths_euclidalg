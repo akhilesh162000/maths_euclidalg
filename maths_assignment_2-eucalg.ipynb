{
 "cells": [
  {
   "cell_type": "code",
   "execution_count": 22,
   "id": "cfb9e10b",
   "metadata": {},
   "outputs": [
    {
     "name": "stdout",
     "output_type": "stream",
     "text": [
      "enter the first number: 788\n",
      "enter the second number: 122\n",
      "x= 24 and y= -155\n"
     ]
    }
   ],
   "source": [
    "import math\n",
    "def eucalg(x,y):\n",
    "    if x==0:\n",
    "        return 0,1\n",
    "    x1,y1=eucalg(y%x,x)\n",
    "    n=y1-(math.floor((y/x))*x1)\n",
    "    m=x1\n",
    "    return n,m\n",
    "    \n",
    "a=int(input(\"enter the first number: \"))\n",
    "b=int(input(\"enter the second number: \"))\n",
    "n,m=eucalg(a,b)\n",
    "print(\"x=\",n,\"and y=\",m)"
   ]
  },
  {
   "cell_type": "code",
   "execution_count": null,
   "id": "0b496aab",
   "metadata": {},
   "outputs": [],
   "source": []
  },
  {
   "cell_type": "code",
   "execution_count": null,
   "id": "817424da",
   "metadata": {},
   "outputs": [],
   "source": []
  }
 ],
 "metadata": {
  "kernelspec": {
   "display_name": "Python 3 (ipykernel)",
   "language": "python",
   "name": "python3"
  },
  "language_info": {
   "codemirror_mode": {
    "name": "ipython",
    "version": 3
   },
   "file_extension": ".py",
   "mimetype": "text/x-python",
   "name": "python",
   "nbconvert_exporter": "python",
   "pygments_lexer": "ipython3",
   "version": "3.9.7"
  }
 },
 "nbformat": 4,
 "nbformat_minor": 5
}
