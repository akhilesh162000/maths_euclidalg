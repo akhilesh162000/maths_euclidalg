{
 "cells": [
  {
   "cell_type": "code",
   "execution_count": 4,
   "id": "53a52e18",
   "metadata": {},
   "outputs": [
    {
     "name": "stdout",
     "output_type": "stream",
     "text": [
      "Enter first number : 450\n",
      "Enter second number : 920\n",
      "450  =  920  *  0  +  450\n",
      "920  =  450  *  2  +  20\n",
      "450  =  20  *  22  +  10\n",
      "20  =  10  *  2  +  0\n",
      " \n",
      "GCD of  450  and  920  is  10\n"
     ]
    }
   ],
   "source": [
    "\n",
    "def gcd(x, y):\n",
    "    rem = x%y\n",
    "    qou = x//y\n",
    "    print(x,\" = \",y,\" * \",qou,\" + \",rem)\n",
    "    if(rem != 0):\n",
    "        gcd(y, rem)\n",
    "    else:\n",
    "        print(\" \")\n",
    "        print(\"GCD of \",num1,\" and \",num2,\" is \",y)\n",
    "    \n",
    "num1 = int(input(\"Enter first number : \"))\n",
    "num2 = int(input(\"Enter second number : \"))\n",
    "gcd(num1, num2)"
   ]
  },
  {
   "cell_type": "code",
   "execution_count": null,
   "id": "d361712f",
   "metadata": {},
   "outputs": [],
   "source": []
  }
 ],
 "metadata": {
  "kernelspec": {
   "display_name": "Python 3 (ipykernel)",
   "language": "python",
   "name": "python3"
  },
  "language_info": {
   "codemirror_mode": {
    "name": "ipython",
    "version": 3
   },
   "file_extension": ".py",
   "mimetype": "text/x-python",
   "name": "python",
   "nbconvert_exporter": "python",
   "pygments_lexer": "ipython3",
   "version": "3.9.7"
  }
 },
 "nbformat": 4,
 "nbformat_minor": 5
}
